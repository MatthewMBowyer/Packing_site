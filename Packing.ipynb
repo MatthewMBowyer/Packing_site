{
 "cells": [
  {
   "cell_type": "code",
   "execution_count": 1,
   "id": "ced3e06d",
   "metadata": {},
   "outputs": [
    {
     "data": {
      "application/vnd.jupyter.widget-view+json": {
       "model_id": "09a9d2f54f2f4ee6a4114d95be20e11f",
       "version_major": 2,
       "version_minor": 0
      },
      "text/plain": [
       "FloatText(value=0.0, description='Trailer Length:')"
      ]
     },
     "metadata": {},
     "output_type": "display_data"
    },
    {
     "data": {
      "application/vnd.jupyter.widget-view+json": {
       "model_id": "6acb9be6315f42afb082f42a444a03c1",
       "version_major": 2,
       "version_minor": 0
      },
      "text/plain": [
       "FloatText(value=0.0, description='Trailer Width:')"
      ]
     },
     "metadata": {},
     "output_type": "display_data"
    },
    {
     "data": {
      "application/vnd.jupyter.widget-view+json": {
       "model_id": "13f822eb5021482e8153d4271460e5b4",
       "version_major": 2,
       "version_minor": 0
      },
      "text/plain": [
       "FloatText(value=0.0, description='Trailer Height:')"
      ]
     },
     "metadata": {},
     "output_type": "display_data"
    },
    {
     "data": {
      "application/vnd.jupyter.widget-view+json": {
       "model_id": "3633806548ca48acb27848cea919d5d2",
       "version_major": 2,
       "version_minor": 0
      },
      "text/plain": [
       "FloatText(value=0.0, description='Trailer Weight:')"
      ]
     },
     "metadata": {},
     "output_type": "display_data"
    },
    {
     "data": {
      "application/vnd.jupyter.widget-view+json": {
       "model_id": "8d94a2f09b464a61980c7bcf32e844b8",
       "version_major": 2,
       "version_minor": 0
      },
      "text/plain": [
       "FloatText(value=0.0, description='Box Length:')"
      ]
     },
     "metadata": {},
     "output_type": "display_data"
    },
    {
     "data": {
      "application/vnd.jupyter.widget-view+json": {
       "model_id": "c0095a1555f1446286f48f2f13df27b8",
       "version_major": 2,
       "version_minor": 0
      },
      "text/plain": [
       "FloatText(value=0.0, description='Box Width:')"
      ]
     },
     "metadata": {},
     "output_type": "display_data"
    },
    {
     "data": {
      "application/vnd.jupyter.widget-view+json": {
       "model_id": "94d141dedc0d403a9e16ec35ef4ae077",
       "version_major": 2,
       "version_minor": 0
      },
      "text/plain": [
       "FloatText(value=0.0, description='Box Height:')"
      ]
     },
     "metadata": {},
     "output_type": "display_data"
    },
    {
     "data": {
      "application/vnd.jupyter.widget-view+json": {
       "model_id": "f08d1f8549354618a72cf3f38b4e16cc",
       "version_major": 2,
       "version_minor": 0
      },
      "text/plain": [
       "FloatText(value=0.0, description='Box Weight:')"
      ]
     },
     "metadata": {},
     "output_type": "display_data"
    },
    {
     "data": {
      "application/vnd.jupyter.widget-view+json": {
       "model_id": "ea52b5ba80884f7c833c5ee47653892c",
       "version_major": 2,
       "version_minor": 0
      },
      "text/plain": [
       "Button(description='Calculate Fit', style=ButtonStyle())"
      ]
     },
     "metadata": {},
     "output_type": "display_data"
    },
    {
     "data": {
      "application/vnd.jupyter.widget-view+json": {
       "model_id": "53419162497242aeb3830fdb1e6ab0a6",
       "version_major": 2,
       "version_minor": 0
      },
      "text/plain": [
       "Output()"
      ]
     },
     "metadata": {},
     "output_type": "display_data"
    }
   ],
   "source": [
    "import ipywidgets as widgets\n",
    "from IPython.display import display\n",
    "\n",
    "# Create widgets for the trailer dimensions\n",
    "trailer_length = widgets.FloatText(description='Trailer Length:')\n",
    "trailer_width = widgets.FloatText(description='Trailer Width:')\n",
    "trailer_height = widgets.FloatText(description='Trailer Height:')\n",
    "trailer_weight = widgets.FloatText(description='Trailer Weight:')\n",
    "\n",
    "# Create widgets for the box dimensions and weight\n",
    "box_length = widgets.FloatText(description='Box Length:')\n",
    "box_width = widgets.FloatText(description='Box Width:')\n",
    "box_height = widgets.FloatText(description='Box Height:')\n",
    "box_weight = widgets.FloatText(description='Box Weight:')\n",
    "\n",
    "# Button to trigger the calculation\n",
    "calculate_button = widgets.Button(description='Calculate Fit')\n",
    "\n",
    "# Output widget to display results\n",
    "output = widgets.Output()\n",
    "\n",
    "display(trailer_length, trailer_width, trailer_height,trailer_weight, box_length, box_width, box_height, box_weight, calculate_button, output)\n",
    "\n",
    "# Define the event handler for the calculation\n",
    "def on_calculate_button_clicked(b):\n",
    "    with output:\n",
    "        output.clear_output()\n",
    "        # Calculate volumes\n",
    "        trailer_volume = trailer_length.value * trailer_width.value * trailer_height.value\n",
    "        box_volume = box_length.value * box_width.value * box_height.value\n",
    "        # Calculate fit\n",
    "        if box_volume > 0:  # Prevent division by zero\n",
    "            boxes_fit = int(trailer_volume / box_volume)  # Using int to get a whole number of boxes\n",
    "            total_weight = boxes_fit * box_weight.value\n",
    "            total_trailer_weight = trailer_weight.value + total_weight.value\n",
    "            print(f\"Boxes that can fit: {boxes_fit}\\nCombined weight: {total_weight} units.\\nTotal weight: {total_trailer_weight} units.\")\n",
    "        else:\n",
    "            print(\"Box dimensions must be greater than 0.\")\n",
    "\n",
    "\n",
    "\n",
    "calculate_button.on_click(on_calculate_button_clicked)\n"
   ]
  },
  {
   "cell_type": "code",
   "execution_count": 2,
   "id": "da109cb9",
   "metadata": {},
   "outputs": [
    {
     "name": "stdout",
     "output_type": "stream",
     "text": [
      "Note: you may need to restart the kernel to use updated packages.\n"
     ]
    }
   ],
   "source": [
    "pip freeze > requirements.txt"
   ]
  },
  {
   "cell_type": "code",
   "execution_count": null,
   "id": "5de2223c",
   "metadata": {},
   "outputs": [],
   "source": []
  }
 ],
 "metadata": {
  "kernelspec": {
   "display_name": "Python 3 (ipykernel)",
   "language": "python",
   "name": "python3"
  },
  "language_info": {
   "codemirror_mode": {
    "name": "ipython",
    "version": 3
   },
   "file_extension": ".py",
   "mimetype": "text/x-python",
   "name": "python",
   "nbconvert_exporter": "python",
   "pygments_lexer": "ipython3",
   "version": "3.11.4"
  }
 },
 "nbformat": 4,
 "nbformat_minor": 5
}
